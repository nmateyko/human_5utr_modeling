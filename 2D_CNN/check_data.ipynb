{
 "cells": [
  {
   "cell_type": "code",
   "execution_count": 1,
   "id": "7004dee8",
   "metadata": {},
   "outputs": [],
   "source": [
    "import pandas as pd\n",
    "import numpy as np\n",
    "import matplotlib.pyplot as plt\n",
    "import scipy.stats as stats\n",
    "import seaborn as sns\n",
    "import scipy\n",
    "import pickle\n",
    "from sklearn.metrics import pairwise_distances\n",
    "from sklearn import preprocessing\n",
    "import random\n",
    "from collections import Counter\n",
    "from tqdm.notebook import tqdm\n",
    "\n",
    "%matplotlib inline"
   ]
  },
  {
   "cell_type": "markdown",
   "id": "6f59c956",
   "metadata": {},
   "source": [
    "Read in the data from the unmodified mRNA experiment and sort by total reads."
   ]
  },
  {
   "cell_type": "code",
   "execution_count": 2,
   "id": "d5b1c09e",
   "metadata": {},
   "outputs": [],
   "source": [
    "df = pd.read_csv(\"../data/GSM3130435_egfp_unmod_1.csv\")\n",
    "df.sort_values('total_reads', inplace=True, ascending=False)\n",
    "df.reset_index(inplace=True, drop=True)"
   ]
  },
  {
   "cell_type": "markdown",
   "id": "37c8df0d",
   "metadata": {},
   "source": [
    "Check the distribution of read counts"
   ]
  },
  {
   "cell_type": "code",
   "execution_count": 3,
   "id": "13a27637",
   "metadata": {},
   "outputs": [
    {
     "data": {
      "image/png": "[encoded data removed]",
      "text/plain": [
       "<Figure size 432x288 with 1 Axes>"
      ]
     },
     "metadata": {
      "needs_background": "light"
     },
     "output_type": "display_data"
    }
   ],
   "source": [
    "log_reads = np.log10(df['total_reads'])\n",
    "plt.hist(log_reads)\n",
    "plt.show()"
   ]
  },
  {
   "cell_type": "markdown",
   "id": "468c457c",
   "metadata": {},
   "source": [
    "The authors chose to only use the top 280,000 sequences. This corresponds to sequences with at least 267 reads."
   ]
  },
  {
   "cell_type": "code",
   "execution_count": 4,
   "id": "17387634",
   "metadata": {},
   "outputs": [
    {
     "data": {
      "text/plain": [
       "267.0"
      ]
     },
     "execution_count": 4,
     "metadata": {},
     "output_type": "execute_result"
    }
   ],
   "source": [
    "df.loc[280_000,'total_reads']"
   ]
  },
  {
   "cell_type": "markdown",
   "id": "13f4ea6e",
   "metadata": {},
   "source": [
    "Subset for top 280,000 sequences and identify sequences with uAUGs."
   ]
  },
  {
   "cell_type": "code",
   "execution_count": 5,
   "id": "32ecc65a",
   "metadata": {},
   "outputs": [],
   "source": [
    "df_subset = df.iloc[:280000]\n",
    "\n",
    "# Create column that identifies upstream AUGs\n",
    "df_subset = df_subset.assign(uAUG=df_subset['utr'].str.contains(\"ATG\"))"
   ]
  },
  {
   "cell_type": "markdown",
   "id": "d6d4d9b8",
   "metadata": {},
   "source": [
    "Check that all UTR sequences are 50 bp long"
   ]
  },
  {
   "cell_type": "code",
   "execution_count": 6,
   "id": "24a57341",
   "metadata": {},
   "outputs": [
    {
     "data": {
      "text/plain": [
       "50    280000\n",
       "Name: utr, dtype: int64"
      ]
     },
     "execution_count": 6,
     "metadata": {},
     "output_type": "execute_result"
    }
   ],
   "source": [
    "lengths = df_subset['utr'].map(len)\n",
    "lengths.value_counts()"
   ]
  },
  {
   "cell_type": "markdown",
   "id": "c8cc6f61",
   "metadata": {},
   "source": [
    "Check that no UTRs are repeated."
   ]
  },
  {
   "cell_type": "code",
   "execution_count": 7,
   "id": "c26b9fb6",
   "metadata": {},
   "outputs": [
    {
     "data": {
      "text/plain": [
       "0"
      ]
     },
     "execution_count": 7,
     "metadata": {},
     "output_type": "execute_result"
    }
   ],
   "source": [
    "sum(df_subset.duplicated(subset='utr'))"
   ]
  },
  {
   "cell_type": "markdown",
   "id": "1396e234",
   "metadata": {},
   "source": [
    "Check distrubution of mean ribosome load."
   ]
  },
  {
   "cell_type": "code",
   "execution_count": 8,
   "id": "348e7ddd",
   "metadata": {},
   "outputs": [
    {
     "data": {
      "image/png": "[encoded data removed]",
      "text/plain": [
       "<Figure size 432x288 with 1 Axes>"
      ]
     },
     "metadata": {
      "needs_background": "light"
     },
     "output_type": "display_data"
    }
   ],
   "source": [
    "plt.hist(df_subset['rl'], bins=50)\n",
    "plt.show()"
   ]
  },
  {
   "cell_type": "markdown",
   "id": "bdb0b47f",
   "metadata": {},
   "source": [
    "Look at ribosome load distribution for uAUG and no uAUG separately"
   ]
  },
  {
   "cell_type": "code",
   "execution_count": 9,
   "id": "fefab977",
   "metadata": {},
   "outputs": [
    {
     "data": {
      "image/png": "[encoded data removed]",
      "text/plain": [
       "<Figure size 432x288 with 1 Axes>"
      ]
     },
     "metadata": {
      "needs_background": "light"
     },
     "output_type": "display_data"
    }
   ],
   "source": [
    "plt.hist(df_subset.loc[df_subset['uAUG'], 'rl'], bins=50)\n",
    "plt.show()"
   ]
  },
  {
   "cell_type": "code",
   "execution_count": 10,
   "id": "a014c3ff",
   "metadata": {},
   "outputs": [
    {
     "data": {
      "image/png": "[encoded data removed]",
      "text/plain": [
       "<Figure size 432x288 with 1 Axes>"
      ]
     },
     "metadata": {
      "needs_background": "light"
     },
     "output_type": "display_data"
    }
   ],
   "source": [
    "plt.hist(df_subset.loc[~df_subset['uAUG'], 'rl'], bins=50)\n",
    "plt.show()"
   ]
  },
  {
   "cell_type": "markdown",
   "id": "a61d9c2c",
   "metadata": {},
   "source": [
    "Split uAUG sequences based on whether the uAUG is in frame or not. The start codon is immediately after the random 50 bp 5' UTR, so check each 3 bp sequence for ATG starting at index 2. The base before the 50 bp random region is an A, so also check for any sequence that starts with TG."
   ]
  },
  {
   "cell_type": "code",
   "execution_count": 11,
   "id": "75031bd1",
   "metadata": {},
   "outputs": [
    {
     "name": "stdout",
     "output_type": "stream",
     "text": [
      "True\n",
      "True\n"
     ]
    },
    {
     "name": "stderr",
     "output_type": "stream",
     "text": [
      "C:\\Users\\nmateyko\\AppData\\Local\\Temp\\ipykernel_26076\\3199174694.py:13: SettingWithCopyWarning: \n",
      "A value is trying to be set on a copy of a slice from a DataFrame.\n",
      "Try using .loc[row_indexer,col_indexer] = value instead\n",
      "\n",
      "See the caveats in the documentation: https://pandas.pydata.org/pandas-docs/stable/user_guide/indexing.html#returning-a-view-versus-a-copy\n",
      "  uAUG['in_frame'] = uAUG['utr'].apply(uAUG_in_frame)\n"
     ]
    }
   ],
   "source": [
    "def uAUG_in_frame(seq):\n",
    "  if seq[0:2] == \"TG\":\n",
    "    return True\n",
    "  for i in range(2, 50, 3):\n",
    "    if seq[i:i + 3] == 'ATG':\n",
    "      return True\n",
    "  return False\n",
    "\n",
    "print(uAUG_in_frame('CGATGGGGGGGGGGGGGGGGGGGGGGGGGGGGGGGGGGGGGGGGGGGGGGG'))\n",
    "print(uAUG_in_frame('TGAGGGGGGGGGGGGGGGGGGGGGGGGGGGGGGGGGGGGGGGGGGGGGGGG'))\n",
    "\n",
    "uAUG = df_subset.loc[df_subset['uAUG']]\n",
    "uAUG['in_frame'] = uAUG['utr'].apply(uAUG_in_frame)"
   ]
  },
  {
   "cell_type": "markdown",
   "id": "09df9926",
   "metadata": {},
   "source": [
    "Distribution of sequences with in-frame uAUG:"
   ]
  },
  {
   "cell_type": "code",
   "execution_count": 12,
   "id": "0d5735b0",
   "metadata": {},
   "outputs": [
    {
     "data": {
      "image/png": "[encoded data removed]",
      "text/plain": [
       "<Figure size 432x288 with 1 Axes>"
      ]
     },
     "metadata": {
      "needs_background": "light"
     },
     "output_type": "display_data"
    }
   ],
   "source": [
    "plt.hist(uAUG.loc[uAUG['in_frame'], 'rl'], bins=50)\n",
    "plt.show()"
   ]
  },
  {
   "cell_type": "markdown",
   "id": "f4420f02",
   "metadata": {},
   "source": [
    "Distribution of sequences with out of frame uAUG:"
   ]
  },
  {
   "cell_type": "code",
   "execution_count": 13,
   "id": "71cb260f",
   "metadata": {},
   "outputs": [
    {
     "data": {
      "image/png": "[encoded data removed]",
      "text/plain": [
       "<Figure size 432x288 with 1 Axes>"
      ]
     },
     "metadata": {
      "needs_background": "light"
     },
     "output_type": "display_data"
    }
   ],
   "source": [
    "plt.hist(uAUG.loc[~uAUG['in_frame'], 'rl'], bins=50)\n",
    "plt.show()"
   ]
  },
  {
   "cell_type": "markdown",
   "id": "5881c0fe",
   "metadata": {},
   "source": [
    "uAUG in frame distribution is still bimodal. Split into sequences with and without uORF to see if this explains some of the lower MRL."
   ]
  },
  {
   "cell_type": "code",
   "execution_count": 22,
   "id": "b8521c75",
   "metadata": {},
   "outputs": [
    {
     "name": "stdout",
     "output_type": "stream",
     "text": [
      "True\n",
      "True\n",
      "False\n"
     ]
    },
    {
     "name": "stderr",
     "output_type": "stream",
     "text": [
      "C:\\Users\\nmateyko\\AppData\\Local\\Temp\\ipykernel_26076\\82732165.py:20: SettingWithCopyWarning: \n",
      "A value is trying to be set on a copy of a slice from a DataFrame.\n",
      "Try using .loc[row_indexer,col_indexer] = value instead\n",
      "\n",
      "See the caveats in the documentation: https://pandas.pydata.org/pandas-docs/stable/user_guide/indexing.html#returning-a-view-versus-a-copy\n",
      "  in_frame['uORF'] = in_frame['utr'].apply(uORF)\n"
     ]
    }
   ],
   "source": [
    "# Assumes input seq has an uAUG\n",
    "def uORF(seq):\n",
    "  if seq[0:2] == \"TG\":\n",
    "    start = 2\n",
    "  else:\n",
    "    for i in range(2, 50, 3):\n",
    "      if seq[i:i + 3] == 'ATG':\n",
    "        start = i\n",
    "  for i in range(start, 50, 3):\n",
    "    if seq[i:i + 3] in ('TAA', 'TAG', 'TGA'):\n",
    "      return True\n",
    "  return False\n",
    "\n",
    "\n",
    "print(uORF('CGATGGGGGGGTAGGGGGGGGGGGGGGGGGGGGGGGGGGGGGGGGGGGGGG')) # True\n",
    "print(uORF('TGAGGTGAGGGGGGGGGGGGGGGGGGGGGGGGGGGGGGGGGGGGGGGGGGG')) # True\n",
    "print(uORF('TGAGGTGGGGGGGGGGGGGGGGGGGGGGGGGGGGGGGGGGGGGGGGGGGGG')) # False\n",
    "\n",
    "in_frame = uAUG.loc[uAUG['in_frame']]\n",
    "in_frame['uORF'] = in_frame['utr'].apply(uORF)"
   ]
  },
  {
   "cell_type": "markdown",
   "id": "f4d0323f",
   "metadata": {},
   "source": [
    "Sequences with in-frame uAUG that creates an uORF:"
   ]
  },
  {
   "cell_type": "code",
   "execution_count": 20,
   "id": "ed8940fc",
   "metadata": {},
   "outputs": [
    {
     "data": {
      "image/png": "[encoded data removed]",
      "text/plain": [
       "<Figure size 432x288 with 1 Axes>"
      ]
     },
     "metadata": {
      "needs_background": "light"
     },
     "output_type": "display_data"
    }
   ],
   "source": [
    "plt.hist(in_frame.loc[in_frame['uORF'], 'rl'], bins=50)\n",
    "plt.show()"
   ]
  },
  {
   "cell_type": "markdown",
   "id": "c8c3b251",
   "metadata": {},
   "source": [
    "Sequences with in-frame uAUG that doesn't create an uORF:"
   ]
  },
  {
   "cell_type": "code",
   "execution_count": 23,
   "id": "59066e79",
   "metadata": {},
   "outputs": [
    {
     "data": {
      "image/png": "[encoded data removed]",
      "text/plain": [
       "<Figure size 432x288 with 1 Axes>"
      ]
     },
     "metadata": {
      "needs_background": "light"
     },
     "output_type": "display_data"
    }
   ],
   "source": [
    "plt.hist(in_frame.loc[~in_frame['uORF'], 'rl'], bins=50)\n",
    "plt.show()"
   ]
  },
  {
   "cell_type": "markdown",
   "id": "dd5b283b",
   "metadata": {},
   "source": [
    "Check the nucleotide content distributions for the UTR sequences."
   ]
  },
  {
   "cell_type": "code",
   "execution_count": 25,
   "id": "c746af72",
   "metadata": {},
   "outputs": [
    {
     "data": {
      "image/png": "[encoded data removed]",
      "text/plain": [
       "<Figure size 432x288 with 1 Axes>"
      ]
     },
     "metadata": {
      "needs_background": "light"
     },
     "output_type": "display_data"
    }
   ],
   "source": [
    "bases = ['A', 'C', 'G', 'T']\n",
    "def char_count(seq, chars):\n",
    "    return [seq.count(c)/len(seq) for c in chars]\n",
    "\n",
    "bp_freqs = np.array([char_count(seq, bases) for seq in df_subset['utr']])\n",
    "bp_freqs_df = pd.DataFrame.from_records(bp_freqs, columns=bases)\n",
    "\n",
    "sns.kdeplot(data=bp_freqs_df, x=\"A\", color='green', label=\"A\", bw_adjust=5)\n",
    "sns.kdeplot(data=bp_freqs_df, x=\"C\", color='blue', label=\"C\", bw_adjust=5)\n",
    "sns.kdeplot(data=bp_freqs_df, x=\"G\", color='orange', label=\"G\", bw_adjust=5)\n",
    "sns.kdeplot(data=bp_freqs_df, x=\"T\", color='red', label=\"T\", bw_adjust=5)\n",
    "\n",
    "plt.legend() \n",
    "plt.show()"
   ]
  },
  {
   "cell_type": "markdown",
   "id": "5236dc5c",
   "metadata": {},
   "source": [
    "Check the average nucleotide content of all UTR sequences."
   ]
  },
  {
   "cell_type": "code",
   "execution_count": 26,
   "id": "48a566b2",
   "metadata": {},
   "outputs": [
    {
     "data": {
      "text/plain": [
       "A    0.292706\n",
       "C    0.232578\n",
       "G    0.268041\n",
       "T    0.206674\n",
       "dtype: float64"
      ]
     },
     "execution_count": 26,
     "metadata": {},
     "output_type": "execute_result"
    }
   ],
   "source": [
    "bp_freqs_df.sum()/280000"
   ]
  },
  {
   "cell_type": "markdown",
   "id": "e93ccecd",
   "metadata": {},
   "source": [
    "Check correlation between GC content and mean ribosome load."
   ]
  },
  {
   "cell_type": "code",
   "execution_count": 27,
   "id": "c9bd8af3",
   "metadata": {},
   "outputs": [],
   "source": [
    "def GC_content(seq):\n",
    "    return (seq.count('G') + seq.count('C')) / len(seq)\n",
    "\n",
    "# print(GC_content(\"ACTCCG\")) # 2/3\n",
    "# print(GC_content(\"AATTA\")) # 0\n",
    "GC = [GC_content(seq) for seq in df_subset['utr']]\n"
   ]
  },
  {
   "cell_type": "code",
   "execution_count": 28,
   "id": "c51182aa",
   "metadata": {},
   "outputs": [
    {
     "data": {
      "text/plain": [
       "<AxesSubplot:ylabel='rl'>"
      ]
     },
     "execution_count": 28,
     "metadata": {},
     "output_type": "execute_result"
    },
    {
     "data": {
      "image/png": "[encoded data removed]",
      "text/plain": [
       "<Figure size 432x288 with 1 Axes>"
      ]
     },
     "metadata": {
      "needs_background": "light"
     },
     "output_type": "display_data"
    }
   ],
   "source": [
    "sns.regplot(x=GC, y=df_subset['rl'], ci=None)"
   ]
  },
  {
   "cell_type": "markdown",
   "id": "84ddef8b",
   "metadata": {},
   "source": [
    "Split into test and train. The authors chose the 20,000 sequences with highest number of reads as the test set."
   ]
  },
  {
   "cell_type": "code",
   "execution_count": 29,
   "id": "88b605e5",
   "metadata": {},
   "outputs": [],
   "source": [
    "# The training set has 260k UTRs and the test set has 20k UTRs.\n",
    "e_test = df_subset.iloc[:20000]\n",
    "e_train = df_subset.iloc[20000:]"
   ]
  },
  {
   "cell_type": "markdown",
   "id": "2514f481",
   "metadata": {},
   "source": [
    "Check that uAUGs are represented equally in the test and train sets."
   ]
  },
  {
   "cell_type": "code",
   "execution_count": 30,
   "id": "19302053",
   "metadata": {},
   "outputs": [
    {
     "name": "stdout",
     "output_type": "stream",
     "text": [
      "Percent uAUG in data: 0.5394964285714285\n",
      "Percent uAUG in train: 0.5272038461538462\n",
      "Percent uAUG in test: 0.6993\n"
     ]
    }
   ],
   "source": [
    "print(f\"Percent uAUG in data: {sum(df_subset['uAUG'])/df_subset.shape[0]}\")\n",
    "print(f\"Percent uAUG in train: {sum(e_train['uAUG'])/e_train.shape[0]}\")\n",
    "print(f\"Percent uAUG in test: {sum(e_test['uAUG'])/e_test.shape[0]}\")"
   ]
  },
  {
   "cell_type": "markdown",
   "id": "c7ce2ea4",
   "metadata": {},
   "source": [
    "It looks like the test set that the authors used is enriched for sequences with uAUGs. Here's what we would expect:"
   ]
  },
  {
   "cell_type": "code",
   "execution_count": 31,
   "id": "ab4796d5",
   "metadata": {},
   "outputs": [
    {
     "data": {
      "text/plain": [
       "0.5431"
      ]
     },
     "execution_count": 31,
     "metadata": {},
     "output_type": "execute_result"
    }
   ],
   "source": [
    "random_seqs = [\"\".join(random.choices(['A', 'T', 'G', 'C'], k=50)) for i in range(100000)]\n",
    "sum(['ATG' in seq for seq in random_seqs])/len(random_seqs)"
   ]
  },
  {
   "cell_type": "markdown",
   "id": "d62b09e7",
   "metadata": {},
   "source": [
    "The authors included this plot in the supplement: ![](../images/reads_vs_performance.png)"
   ]
  },
  {
   "cell_type": "markdown",
   "id": "a752ad3d",
   "metadata": {},
   "source": [
    "The model seems to perform much worse on the sequences with no uAUG. Look at the proportion of uAUG-containing sequences in each of these bins:"
   ]
  },
  {
   "cell_type": "code",
   "execution_count": 32,
   "id": "9e927e42",
   "metadata": {},
   "outputs": [
    {
     "data": {
      "image/png": "[encoded data removed]",
      "text/plain": [
       "<Figure size 432x288 with 1 Axes>"
      ]
     },
     "metadata": {
      "needs_background": "light"
     },
     "output_type": "display_data"
    }
   ],
   "source": [
    "uAUG_freq = [sum(df_subset.loc[i:i + 20000,'uAUG'])/20000 for i in range(0, 260000, 20000)]\n",
    "plt.plot(uAUG_freq)\n",
    "plt.show()"
   ]
  },
  {
   "cell_type": "markdown",
   "id": "15652a64",
   "metadata": {},
   "source": [
    "Compare replicates. Keep top 120k UTRs with most reads (similar cutoff to rep 1)"
   ]
  },
  {
   "cell_type": "code",
   "execution_count": 33,
   "id": "eef098df",
   "metadata": {},
   "outputs": [
    {
     "data": {
      "text/plain": [
       "267.0"
      ]
     },
     "execution_count": 33,
     "metadata": {},
     "output_type": "execute_result"
    }
   ],
   "source": [
    "df2 = pd.read_csv(\"../data/GSM3130436_egfp_unmod_2.csv\")\n",
    "df2.sort_values('total', inplace=True, ascending=False)\n",
    "df2.reset_index(inplace=True, drop=True)\n",
    "df_subset2 = df2.iloc[:120000]\n",
    "df2.loc[120_000,'total']"
   ]
  },
  {
   "cell_type": "markdown",
   "id": "4a5ed34b",
   "metadata": {},
   "source": [
    "Inner join the replicates on the UTR column to find sequences in both reps."
   ]
  },
  {
   "cell_type": "code",
   "execution_count": 34,
   "id": "433cee5e",
   "metadata": {},
   "outputs": [
    {
     "name": "stderr",
     "output_type": "stream",
     "text": [
      "C:\\Users\\nmateyko\\AppData\\Local\\Temp\\ipykernel_3640\\1999769913.py:2: SettingWithCopyWarning: \n",
      "A value is trying to be set on a copy of a slice from a DataFrame.\n",
      "Try using .loc[row_indexer,col_indexer] = value instead\n",
      "\n",
      "See the caveats in the documentation: https://pandas.pydata.org/pandas-docs/stable/user_guide/indexing.html#returning-a-view-versus-a-copy\n",
      "  df_subset2['utr'] = df_subset2['utr'].astype(str)\n"
     ]
    },
    {
     "name": "stdout",
     "output_type": "stream",
     "text": [
      "0\n"
     ]
    },
    {
     "data": {
      "image/png": "[encoded data removed]",
      "text/plain": [
       "<Figure size 432x288 with 1 Axes>"
      ]
     },
     "metadata": {
      "needs_background": "light"
     },
     "output_type": "display_data"
    }
   ],
   "source": [
    "df_subset['utr'] = df_subset['utr'].astype(str)\n",
    "df_subset2['utr'] = df_subset2['utr'].astype(str)\n",
    "merged = pd.merge(df_subset, df_subset2, on='utr', suffixes=(\"_1\", \"_2\"))\n",
    "print(len(merged))\n",
    "plt.scatter(merged['rl_1'], merged['rl_2'], alpha=0.1)\n",
    "plt.show()"
   ]
  },
  {
   "cell_type": "code",
   "execution_count": null,
   "id": "dcfec800",
   "metadata": {},
   "outputs": [],
   "source": [
    "seqs = df_subset.loc[:100, 'utr']\n",
    "sum(sum(df_subset2['utr'].str.contains(seq)) for seq in seqs)"
   ]
  },
  {
   "cell_type": "markdown",
   "id": "94491214",
   "metadata": {},
   "source": [
    "Check to see if parts of the train UTR sequences are found in the test set due to PCR chimeras. If this is a major problem, the distribution of pairwise hamming distances between the train and test sets should differ from the expected binomial distribution."
   ]
  },
  {
   "cell_type": "code",
   "execution_count": null,
   "id": "d0837069",
   "metadata": {},
   "outputs": [],
   "source": [
    "# Split strings into arrays of chars\n",
    "def split_seqs(seqs):  \n",
    "    return np.array([np.fromiter(seq, (np.compat.unicode,1)) for seq in seqs])\n",
    "\n",
    "e_test_split = split_seqs(e_test['utr'])\n",
    "e_train_split = split_seqs(e_train['utr'])\n",
    "\n",
    "# check that only A, C, G, T present in UTRs\n",
    "uniques = np.unique(e_test_split)\n",
    "print(uniques)\n",
    "print(np.unique(e_train_split))\n",
    "\n",
    "# Convert characters to ints so that sklearn pairwise_distances can be used,\n",
    "# which is much faster than my own hamming distance implementation\n",
    "test_encoded = np.searchsorted(uniques, e_test_split)\n",
    "train_encoded = np.searchsorted(uniques, e_train_split)\n",
    "\n",
    "# Calculate pairwise distances between train and test\n",
    "dists = pairwise_distances(X=train_encoded[:5000], Y=test_encoded[:5000], metric='hamming')"
   ]
  },
  {
   "cell_type": "markdown",
   "id": "f46d0a42",
   "metadata": {},
   "source": [
    "`pairwise_distances` gives a proportion instead of the actual hamming distance, so multiply by 50 to get the hamming distance. "
   ]
  },
  {
   "cell_type": "code",
   "execution_count": null,
   "id": "fa8d45f1",
   "metadata": {},
   "outputs": [],
   "source": [
    "flat = dists.flatten()\n",
    "flat = np.rint(flat * 50)\n",
    "plt.hist(flat, bins=range(51))\n",
    "plt.show()"
   ]
  },
  {
   "cell_type": "markdown",
   "id": "033bf932",
   "metadata": {},
   "source": [
    "Count the frequency of each hamming distance and convert to a pmf"
   ]
  },
  {
   "cell_type": "code",
   "execution_count": null,
   "id": "1091f7ae",
   "metadata": {},
   "outputs": [],
   "source": [
    "counts = Counter(flat)\n",
    "counts_list = counts.items()\n",
    "freqs = np.zeros(51)\n",
    "for count in counts_list:\n",
    "    freqs[int(count[0])] = count[1]\n",
    "total = sum(counts.values())\n",
    "freqs = freqs/total"
   ]
  },
  {
   "cell_type": "markdown",
   "id": "a609b3a2",
   "metadata": {},
   "source": [
    "Compare observed pmf to the expected binomial pmf. The binomial assumes that all bases are equally likely, which isn't quite true (see above)."
   ]
  },
  {
   "cell_type": "code",
   "execution_count": null,
   "id": "f8b07a41",
   "metadata": {},
   "outputs": [],
   "source": [
    "plt.bar(range(51), freqs, color='red', alpha=0.5)\n",
    "plt.bar(range(51), scipy.stats.binom.pmf(range(51), 50, 0.75), color='blue', alpha=0.5)\n",
    "plt.show()"
   ]
  },
  {
   "cell_type": "markdown",
   "id": "7cf96b0f",
   "metadata": {},
   "source": [
    "Simulate what it would look like if test and train were exactly the same."
   ]
  },
  {
   "cell_type": "code",
   "execution_count": null,
   "id": "b39a1381",
   "metadata": {},
   "outputs": [],
   "source": [
    "rand_sample = [random.choices(range(4), k=50) for i in range(5000)]\n",
    "dists = pairwise_distances(X=rand_sample, Y=rand_sample, metric='hamming')\n",
    "flat = dists.flatten()\n",
    "flat = np.rint(flat * 50)\n",
    "counts = Counter(flat)\n",
    "counts_list = counts.items()\n",
    "freqs = np.zeros(51)\n",
    "for count in counts_list:\n",
    "    freqs[int(count[0])] = count[1]\n",
    "total = sum(counts.values())\n",
    "freqs = freqs/total\n",
    "plt.bar(range(51), freqs, color='red', alpha=0.5)\n",
    "plt.bar(range(51), scipy.stats.binom.pmf(range(51), 50, 0.75), color='blue', alpha=0.5)\n",
    "plt.show()"
   ]
  },
  {
   "cell_type": "markdown",
   "id": "01bf0042",
   "metadata": {},
   "source": [
    "Probably not the best way to check for test/train violations!\n",
    "\n",
    "Instead, manually inspect the test/train pairs with the lowest hamming distance to see if PCR chimeras seem to be an issue."
   ]
  },
  {
   "cell_type": "code",
   "execution_count": null,
   "id": "60fc6331",
   "metadata": {},
   "outputs": [],
   "source": [
    "dists = pairwise_distances(X=train_encoded[:50000], Y=test_encoded[:10000], metric='hamming')"
   ]
  },
  {
   "cell_type": "code",
   "execution_count": null,
   "id": "4a468ec5",
   "metadata": {},
   "outputs": [],
   "source": [
    "np.amin(dists)*50"
   ]
  },
  {
   "cell_type": "code",
   "execution_count": null,
   "id": "40866565",
   "metadata": {},
   "outputs": [],
   "source": [
    "train_ids, test_ids = np.where(dists * 50 == 1)\n",
    "for i in zip(train_ids, test_ids):\n",
    "    print(\"\".join(e_train_split[i[0]]))\n",
    "    print(\"\".join(e_test_split[i[1]]))\n",
    "    print(\"\\n\")"
   ]
  },
  {
   "cell_type": "code",
   "execution_count": null,
   "id": "a136d840",
   "metadata": {},
   "outputs": [],
   "source": [
    "train_ids, test_ids = np.where(dists * 50 == 17)\n",
    "for i in zip(train_ids, test_ids):\n",
    "    print(\"\".join(e_train_split[i[0]]))\n",
    "    print(\"\".join(e_test_split[i[1]]))\n",
    "    print(\"\\n\")"
   ]
  },
  {
   "cell_type": "code",
   "execution_count": null,
   "id": "f1dc9d3a",
   "metadata": {},
   "outputs": [],
   "source": [
    "del dists"
   ]
  },
  {
   "cell_type": "code",
   "execution_count": null,
   "id": "0459da27",
   "metadata": {},
   "outputs": [],
   "source": [
    "def max_run(seqs1, seqs2, min_len):\n",
    "    rows = len(seqs1)\n",
    "    cols = len(seqs2)\n",
    "    seq_len = len(seqs1[0])\n",
    "    a = (seqs1[:, None, :] == seqs2[None, :, :]).reshape(cols * rows, seq_len)\n",
    "    m,n = a.shape\n",
    "    A = np.zeros((m,n+2), dtype=bool)\n",
    "    A[:m,1:-1] = a\n",
    "\n",
    "    dA = np.diff(A)\n",
    "    nz = np.nonzero(dA)\n",
    "    start = (nz[0][::2], nz[1][::2])\n",
    "    end = (nz[0][1::2], nz[1][1::2])\n",
    "\n",
    "    run_lengths = end[1]-start[1]\n",
    "    argmax_run = np.where(run_lengths >= min_len)\n",
    "    row = start[0][argmax_run]\n",
    "    return (list(seqs1[row // cols]), list(seqs2[row % cols]), list(run_lengths[argmax_run]))\n",
    "\n",
    "def find_long_runs(train, test, split_size, min_len):\n",
    "    runs_train = []\n",
    "    runs_test = []\n",
    "    lengths = []\n",
    "    for i in tqdm(range(0, len(train), split_size)):\n",
    "        for j in range(0, len(test), split_size):\n",
    "            seqs1 = train[i:i + split_size]\n",
    "            seqs2 = test[j:j + split_size]\n",
    "            res = max_run(seqs1, seqs2, min_len)\n",
    "            runs_train += res[0]\n",
    "            runs_test += res[1]\n",
    "            lengths += res[2]\n",
    "            for seq1, seq2 in zip(res[0], res[1]):\n",
    "                print(f\"{''.join(seq1)}\\n{''.join(seq2)}\\n\\n\")\n",
    "    return (runs_train, runs_test, lengths)"
   ]
  },
  {
   "cell_type": "code",
   "execution_count": null,
   "id": "3b83010d",
   "metadata": {},
   "outputs": [],
   "source": [
    "long_runs = find_long_runs(e_train_split, e_test_split, 4000, 15)"
   ]
  },
  {
   "cell_type": "code",
   "execution_count": null,
   "id": "b63811ba",
   "metadata": {},
   "outputs": [],
   "source": [
    "train_shifted = np.roll(e_train_split, -1, 1)\n",
    "long_runs_train_shift = find_long_runs(train_shifted, e_test_split, 4000, 15)\n",
    "del train_shifted"
   ]
  },
  {
   "cell_type": "code",
   "execution_count": null,
   "id": "5acf677b",
   "metadata": {},
   "outputs": [],
   "source": [
    "train_random = np.array([random.choices(['A', 'T', 'G', 'C'], k=50) for i in range(260000)])\n",
    "test_random = np.array([random.choices(['A', 'T', 'G', 'C'], k=50) for i in range(20000)])\n",
    "long_runs_random = find_long_runs(train_random, test_random, 4000, 15)"
   ]
  },
  {
   "cell_type": "code",
   "execution_count": null,
   "id": "104d26c2",
   "metadata": {},
   "outputs": [],
   "source": [
    "print(len(long_runs[0]))\n",
    "print(len(long_runs_train_shift[0]))\n",
    "print(len(long_runs_random[0]))"
   ]
  },
  {
   "cell_type": "code",
   "execution_count": null,
   "id": "ca4ea77a",
   "metadata": {},
   "outputs": [],
   "source": [
    "plt.hist(long_runs[2], bins=range(15,51))"
   ]
  },
  {
   "cell_type": "code",
   "execution_count": null,
   "id": "98063bfe",
   "metadata": {
    "scrolled": true
   },
   "outputs": [],
   "source": [
    "plt.hist(long_runs_random[2], bins=range(15,51))"
   ]
  },
  {
   "cell_type": "code",
   "execution_count": null,
   "id": "a54685ca",
   "metadata": {},
   "outputs": [],
   "source": [
    "plt.hist(long_runs_train_shift[2], bins=range(15,51))"
   ]
  },
  {
   "cell_type": "code",
   "execution_count": null,
   "id": "a43d4d1f",
   "metadata": {},
   "outputs": [],
   "source": [
    "pickle.dump(long_runs, open(\"long_runs.pkl\", \"wb\"))\n",
    "pickle.dump(long_runs_random, open(\"long_runs_random.pkl\", \"wb\"))\n",
    "pickle.dump(long_runs_train_shift, open(\"long_runs_train_shift.pkl\", \"wb\"))"
   ]
  },
  {
   "cell_type": "code",
   "execution_count": null,
   "id": "491b1d1e",
   "metadata": {},
   "outputs": [],
   "source": [
    "## check for correlation between read number and GC content ##"
   ]
  }
 ],
 "metadata": {
  "kernelspec": {
   "display_name": "Python 3.10.4 ('env': venv)",
   "language": "python",
   "name": "python3"
  },
  "language_info": {
   "codemirror_mode": {
    "name": "ipython",
    "version": 3
   },
   "file_extension": ".py",
   "mimetype": "text/x-python",
   "name": "python",
   "nbconvert_exporter": "python",
   "pygments_lexer": "ipython3",
   "version": "3.10.4"
  },
  "vscode": {
   "interpreter": {
    "hash": "c15e925ccd7a0163ee5dd884f72df6fb287ab64a4cb25168d81d520ad16c454e"
   }
  }
 },
 "nbformat": 4,
 "nbformat_minor": 5
}
