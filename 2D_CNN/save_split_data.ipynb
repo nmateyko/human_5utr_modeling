{
 "cells": [
  {
   "cell_type": "code",
   "execution_count": null,
   "id": "09502187",
   "metadata": {},
   "outputs": [],
   "source": [
    "import random\n",
    "import pickle\n",
    "import numpy as np\n",
    "import pandas as pd\n",
    "import scipy.stats as stats\n",
    "from itertools import product\n",
    "from sklearn import preprocessing\n",
    "from sklearn.model_selection import train_test_split\n",
    "np.random.seed(1337)\n",
    "\n",
    "def one_hot_encode(df, col='utr', seq_len=50):\n",
    "    # Dictionary returning one-hot encoding of nucleotides. \n",
    "    nuc_d = {'a':[1,0,0,0],'c':[0,1,0,0],'g':[0,0,1,0],'t':[0,0,0,1], 'n':[0,0,0,0]}\n",
    "    \n",
    "    # Creat empty matrix.\n",
    "    vectors=np.empty([len(df),seq_len,4])\n",
    "    \n",
    "    # Iterate through UTRs and one-hot encode\n",
    "    for i,seq in enumerate(df[col].str[:seq_len]): \n",
    "        seq = seq.lower()\n",
    "        a = np.array([nuc_d[x] for x in seq])\n",
    "        vectors[i] = a\n",
    "    return vectors\n",
    "\n",
    "\n",
    "def structure_2D(seqs):\n",
    "    '''\n",
    "    Creates a matrix of sequence x sequence with a 1 for any nucleotide pair that could\n",
    "    potentially base pair and a 0 for any pair that could not base pair. Pairs must be AT,\n",
    "    GC, or GU wobble (GT here because sequences contain T). The pair must be seaparated by\n",
    "    at least 3 nucleotides to be considered a potential base pair interaction.\n",
    "    '''\n",
    "    result = []\n",
    "    l = len(seqs.iloc[0])\n",
    "    diag_zeros = np.ones((l, l))\n",
    "    for i in range(-3, 4):\n",
    "        diag_zeros *= np.diag(-1 * np.ones(l - abs(i)), i) + 1\n",
    "        bp = (('A', 'T'), ('T', 'A'), ('G', 'C'), ('C', 'G'), ('G', 'T'), ('T', 'G'))\n",
    "    for i, seq in enumerate(seqs):\n",
    "        bp_potential = [int(pair in bp) for pair in product(seq, repeat=2)]\n",
    "        bp_2D = np.reshape(bp_potential, (l, l)) * diag_zeros\n",
    "        result.append(bp_2D)\n",
    "    return np.asarray(result)"
   ]
  },
  {
   "cell_type": "markdown",
   "id": "7ecfb719",
   "metadata": {},
   "source": [
    "Test structure_2D function:\n",
    "structure_2D(['CCCCAAAGGGG']) should give blocks of 1s in the top right and bottom left corners separated by 3 0s\n",
    "on the center diagonal."
   ]
  },
  {
   "cell_type": "code",
   "execution_count": null,
   "id": "6eb9b0de",
   "metadata": {},
   "outputs": [],
   "source": [
    "test = pd.DataFrame(['CCCCAAAGGGG'])\n",
    "print(structure_2D(test[0]))"
   ]
  },
  {
   "cell_type": "code",
   "execution_count": null,
   "id": "02f9c17d",
   "metadata": {},
   "outputs": [],
   "source": [
    "# Keep 280k UTRs with most reads (what the authors used)\n",
    "df = pd.read_csv('../data/GSM3130435_egfp_unmod_1.csv')\n",
    "df.sort_values('total_reads', inplace=True, ascending=False)\n",
    "df.reset_index(inplace=True, drop=True)\n",
    "df = df.iloc[:280000]\n",
    "\n",
    "# Create column that identifies upstream AUGs\n",
    "df = df.assign(uAUG=df['utr'].str.contains(\"ATG\"))\n",
    "\n",
    "# Split train and test keeping proportion of uAUG the same\n",
    "train, test = train_test_split(df, test_size=0.1, random_state=42, stratify=df['uAUG'])\n",
    "\n",
    "# split \"train\" into training and validation\n",
    "train, valid = train_test_split(train, test_size=1/9, random_state=42, stratify=train['uAUG'])\n",
    "\n",
    "# One-hot encode both training and test UTRs\n",
    "train_one_hot = one_hot_encode(train, seq_len=50)\n",
    "valid_one_hot = one_hot_encode(valid, seq_len=50)\n",
    "test_one_hot = one_hot_encode(test, seq_len=50)\n",
    "\n",
    "# Create 2D structure matrices\n",
    "train_structure = structure_2D(train['utr'])\n",
    "valid_structure = structure_2D(valid['utr'])\n",
    "test_structure = structure_2D(test['utr'])\n",
    "\n",
    "# Scale the training mean ribosome load values\n",
    "scaler = preprocessing.StandardScaler()\n",
    "scaler.fit(train['rl'].values.reshape(-1,1))\n",
    "train = train.assign(scaled_rl=scaler.transform(train.loc[:,'rl'].values.reshape(-1,1)))\n",
    "valid = valid.assign(scaled_rl=scaler.transform(valid.loc[:,'rl'].values.reshape(-1,1)))\n",
    "test = test.assign(scaled_rl=scaler.transform(test.loc[:,'rl'].values.reshape(-1,1)))"
   ]
  },
  {
   "cell_type": "code",
   "execution_count": null,
   "id": "c1351400",
   "metadata": {},
   "outputs": [],
   "source": [
    "pickle.dump((train, valid, test), \"egfp_unmod_1_split_data.pkl\")\n",
    "pickle.dump((train_one_hot, valid_one_hot, test_one_hot), \"egfp_unmod_1_split_one_hot.pkl\")\n",
    "pickle.dump((train_structure, valid_structure, test_structure), \"egfp_unmod_1_split_structure.pkl\")"
   ]
  }
 ],
 "metadata": {
  "kernelspec": {
   "display_name": "env",
   "language": "python",
   "name": "env"
  },
  "language_info": {
   "codemirror_mode": {
    "name": "ipython",
    "version": 3
   },
   "file_extension": ".py",
   "mimetype": "text/x-python",
   "name": "python",
   "nbconvert_exporter": "python",
   "pygments_lexer": "ipython3",
   "version": "3.10.4"
  }
 },
 "nbformat": 4,
 "nbformat_minor": 5
}
