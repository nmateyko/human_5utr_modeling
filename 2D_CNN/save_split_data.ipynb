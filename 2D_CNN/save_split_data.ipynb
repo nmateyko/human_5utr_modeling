{
 "cells": [
  {
   "cell_type": "code",
   "execution_count": 4,
   "id": "09502187",
   "metadata": {},
   "outputs": [],
   "source": [
    "import numpy as np\n",
    "import pandas as pd\n",
    "from sklearn import preprocessing\n",
    "from sklearn.model_selection import train_test_split\n",
    "np.random.seed(1337)"
   ]
  },
  {
   "cell_type": "code",
   "execution_count": 5,
   "id": "02f9c17d",
   "metadata": {},
   "outputs": [],
   "source": [
    "# Keep 280k UTRs with most reads (what the authors used)\n",
    "df = pd.read_csv('../data/GSM3130435_egfp_unmod_1.csv')\n",
    "df.sort_values('total_reads', inplace=True, ascending=False)\n",
    "df.reset_index(inplace=True, drop=True)\n",
    "df = df.iloc[:280000]\n",
    "\n",
    "# Create column that identifies upstream AUGs\n",
    "df = df.assign(uAUG=df['utr'].str.contains(\"ATG\"))\n",
    "\n",
    "# Split train and test keeping proportion of uAUG the same\n",
    "train, test = train_test_split(df, test_size=0.1, random_state=42, stratify=df['uAUG'])\n",
    "\n",
    "# split \"train\" into training and validation\n",
    "train, valid = train_test_split(train, test_size=1/9, random_state=42, stratify=train['uAUG'])\n",
    "\n",
    "scaler = preprocessing.StandardScaler()\n",
    "scaler.fit(train['rl'].values.reshape(-1,1))\n",
    "train = train.assign(scaled_rl=scaler.transform(train.loc[:,'rl'].values.reshape(-1,1)))\n",
    "valid = valid.assign(scaled_rl=scaler.transform(valid.loc[:,'rl'].values.reshape(-1,1)))\n",
    "test = test.assign(scaled_rl=scaler.transform(test.loc[:,'rl'].values.reshape(-1,1)))\n"
   ]
  },
  {
   "cell_type": "code",
   "execution_count": 6,
   "id": "c1351400",
   "metadata": {},
   "outputs": [],
   "source": [
    "train.to_csv('egfp_unmod_1_train.csv', index=False)\n",
    "valid.to_csv('egfp_unmod_1_valid.csv', index=False)\n",
    "test.to_csv('egfp_unmod_1_test.csv', index=False)"
   ]
  }
 ],
 "metadata": {
  "kernelspec": {
   "display_name": "env",
   "language": "python",
   "name": "env"
  },
  "language_info": {
   "codemirror_mode": {
    "name": "ipython",
    "version": 3
   },
   "file_extension": ".py",
   "mimetype": "text/x-python",
   "name": "python",
   "nbconvert_exporter": "python",
   "pygments_lexer": "ipython3",
   "version": "3.10.4"
  }
 },
 "nbformat": 4,
 "nbformat_minor": 5
}
